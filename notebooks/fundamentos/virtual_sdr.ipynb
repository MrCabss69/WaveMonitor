{
 "cells": [
  {
   "cell_type": "code",
   "execution_count": 3,
   "metadata": {},
   "outputs": [
    {
     "ename": "AttributeError",
     "evalue": "/lib64/librtlsdr.so.0: undefined symbol: rtlsdr_set_dithering",
     "output_type": "error",
     "traceback": [
      "\u001b[0;31m---------------------------------------------------------------------------\u001b[0m",
      "\u001b[0;31mAttributeError\u001b[0m                            Traceback (most recent call last)",
      "Cell \u001b[0;32mIn[3], line 1\u001b[0m\n\u001b[0;32m----> 1\u001b[0m \u001b[38;5;28;01mfrom\u001b[39;00m \u001b[38;5;21;01mrtlsdr\u001b[39;00m \u001b[38;5;28;01mimport\u001b[39;00m RtlSdr\n\u001b[1;32m      2\u001b[0m sdr \u001b[38;5;241m=\u001b[39m RtlSdr()\n\u001b[1;32m      3\u001b[0m \u001b[38;5;28mprint\u001b[39m(sdr)\n",
      "File \u001b[0;32m/usr/local/lib/python3.11/site-packages/pyrtlsdr-0.3.0-py3.11.egg/rtlsdr/__init__.py:56\u001b[0m\n\u001b[1;32m     54\u001b[0m     AIO_AVAILABLE \u001b[38;5;241m=\u001b[39m \u001b[38;5;28;01mFalse\u001b[39;00m\n\u001b[1;32m     55\u001b[0m \u001b[38;5;28;01melse\u001b[39;00m:\n\u001b[0;32m---> 56\u001b[0m     \u001b[38;5;28;01mfrom\u001b[39;00m \u001b[38;5;21;01m.\u001b[39;00m\u001b[38;5;21;01mlibrtlsdr\u001b[39;00m \u001b[38;5;28;01mimport\u001b[39;00m librtlsdr\n\u001b[1;32m     57\u001b[0m     \u001b[38;5;28;01mfrom\u001b[39;00m \u001b[38;5;21;01m.\u001b[39;00m\u001b[38;5;21;01mrtlsdr\u001b[39;00m \u001b[38;5;28;01mimport\u001b[39;00m RtlSdr\n\u001b[1;32m     58\u001b[0m     \u001b[38;5;28;01mfrom\u001b[39;00m \u001b[38;5;21;01m.\u001b[39;00m\u001b[38;5;21;01mrtlsdrtcp\u001b[39;00m \u001b[38;5;28;01mimport\u001b[39;00m RtlSdrTcpServer, RtlSdrTcpClient\n",
      "File \u001b[0;32m/usr/local/lib/python3.11/site-packages/pyrtlsdr-0.3.0-py3.11.egg/rtlsdr/librtlsdr.py:147\u001b[0m\n\u001b[1;32m    144\u001b[0m f\u001b[38;5;241m.\u001b[39mrestype, f\u001b[38;5;241m.\u001b[39margtypes \u001b[38;5;241m=\u001b[39m c_int, [p_rtlsdr_dev, c_int]\n\u001b[1;32m    146\u001b[0m \u001b[38;5;66;03m# RTLSDR_API int rtlsdr_set_dithering(rtlsdr_dev *dev, int on)\u001b[39;00m\n\u001b[0;32m--> 147\u001b[0m f \u001b[38;5;241m=\u001b[39m \u001b[43mlibrtlsdr\u001b[49m\u001b[38;5;241;43m.\u001b[39;49m\u001b[43mrtlsdr_set_dithering\u001b[49m\n\u001b[1;32m    148\u001b[0m f\u001b[38;5;241m.\u001b[39mrestype, f\u001b[38;5;241m.\u001b[39margtypes \u001b[38;5;241m=\u001b[39m c_int, [p_rtlsdr_dev, c_int]\n\u001b[1;32m    150\u001b[0m \u001b[38;5;66;03m# RTLSDR_API int rtlsdr_set_gpio_output(rtlsdr_dev_t *dev, uint8_t gpio)\u001b[39;00m\n",
      "File \u001b[0;32m/usr/lib64/python3.11/ctypes/__init__.py:389\u001b[0m, in \u001b[0;36mCDLL.__getattr__\u001b[0;34m(self, name)\u001b[0m\n\u001b[1;32m    387\u001b[0m \u001b[38;5;28;01mif\u001b[39;00m name\u001b[38;5;241m.\u001b[39mstartswith(\u001b[38;5;124m'\u001b[39m\u001b[38;5;124m__\u001b[39m\u001b[38;5;124m'\u001b[39m) \u001b[38;5;129;01mand\u001b[39;00m name\u001b[38;5;241m.\u001b[39mendswith(\u001b[38;5;124m'\u001b[39m\u001b[38;5;124m__\u001b[39m\u001b[38;5;124m'\u001b[39m):\n\u001b[1;32m    388\u001b[0m     \u001b[38;5;28;01mraise\u001b[39;00m \u001b[38;5;167;01mAttributeError\u001b[39;00m(name)\n\u001b[0;32m--> 389\u001b[0m func \u001b[38;5;241m=\u001b[39m \u001b[38;5;28;43mself\u001b[39;49m\u001b[38;5;241;43m.\u001b[39;49m\u001b[38;5;21;43m__getitem__\u001b[39;49m\u001b[43m(\u001b[49m\u001b[43mname\u001b[49m\u001b[43m)\u001b[49m\n\u001b[1;32m    390\u001b[0m \u001b[38;5;28msetattr\u001b[39m(\u001b[38;5;28mself\u001b[39m, name, func)\n\u001b[1;32m    391\u001b[0m \u001b[38;5;28;01mreturn\u001b[39;00m func\n",
      "File \u001b[0;32m/usr/lib64/python3.11/ctypes/__init__.py:394\u001b[0m, in \u001b[0;36mCDLL.__getitem__\u001b[0;34m(self, name_or_ordinal)\u001b[0m\n\u001b[1;32m    393\u001b[0m \u001b[38;5;28;01mdef\u001b[39;00m \u001b[38;5;21m__getitem__\u001b[39m(\u001b[38;5;28mself\u001b[39m, name_or_ordinal):\n\u001b[0;32m--> 394\u001b[0m     func \u001b[38;5;241m=\u001b[39m \u001b[38;5;28;43mself\u001b[39;49m\u001b[38;5;241;43m.\u001b[39;49m\u001b[43m_FuncPtr\u001b[49m\u001b[43m(\u001b[49m\u001b[43m(\u001b[49m\u001b[43mname_or_ordinal\u001b[49m\u001b[43m,\u001b[49m\u001b[43m \u001b[49m\u001b[38;5;28;43mself\u001b[39;49m\u001b[43m)\u001b[49m\u001b[43m)\u001b[49m\n\u001b[1;32m    395\u001b[0m     \u001b[38;5;28;01mif\u001b[39;00m \u001b[38;5;129;01mnot\u001b[39;00m \u001b[38;5;28misinstance\u001b[39m(name_or_ordinal, \u001b[38;5;28mint\u001b[39m):\n\u001b[1;32m    396\u001b[0m         func\u001b[38;5;241m.\u001b[39m\u001b[38;5;18m__name__\u001b[39m \u001b[38;5;241m=\u001b[39m name_or_ordinal\n",
      "\u001b[0;31mAttributeError\u001b[0m: /lib64/librtlsdr.so.0: undefined symbol: rtlsdr_set_dithering"
     ]
    }
   ],
   "source": [
    "from rtlsdr import RtlSdr\n",
    "sdr = RtlSdr()\n",
    "print(sdr)\n"
   ]
  },
  {
   "cell_type": "code",
   "execution_count": 2,
   "metadata": {},
   "outputs": [
    {
     "ename": "ImportError",
     "evalue": "Error loading librtlsdr. Make sure librtlsdr (and all of its dependencies) are in your path",
     "output_type": "error",
     "traceback": [
      "\u001b[0;31m---------------------------------------------------------------------------\u001b[0m",
      "\u001b[0;31mImportError\u001b[0m                               Traceback (most recent call last)",
      "Cell \u001b[0;32mIn[2], line 1\u001b[0m\n\u001b[0;32m----> 1\u001b[0m \u001b[38;5;28;01mfrom\u001b[39;00m \u001b[38;5;21;01mrtlsdr\u001b[39;00m \u001b[38;5;28;01mimport\u001b[39;00m RtlSdr\n\u001b[1;32m      3\u001b[0m sdr \u001b[38;5;241m=\u001b[39m RtlSdr()\n\u001b[1;32m      5\u001b[0m \u001b[38;5;66;03m# configure device\u001b[39;00m\n",
      "File \u001b[0;32m/usr/local/lib/python3.11/site-packages/pyrtlsdr-0.3.0-py3.11.egg/rtlsdr/__init__.py:56\u001b[0m\n\u001b[1;32m     54\u001b[0m     AIO_AVAILABLE \u001b[38;5;241m=\u001b[39m \u001b[38;5;28;01mFalse\u001b[39;00m\n\u001b[1;32m     55\u001b[0m \u001b[38;5;28;01melse\u001b[39;00m:\n\u001b[0;32m---> 56\u001b[0m     \u001b[38;5;28;01mfrom\u001b[39;00m \u001b[38;5;21;01m.\u001b[39;00m\u001b[38;5;21;01mlibrtlsdr\u001b[39;00m \u001b[38;5;28;01mimport\u001b[39;00m librtlsdr\n\u001b[1;32m     57\u001b[0m     \u001b[38;5;28;01mfrom\u001b[39;00m \u001b[38;5;21;01m.\u001b[39;00m\u001b[38;5;21;01mrtlsdr\u001b[39;00m \u001b[38;5;28;01mimport\u001b[39;00m RtlSdr\n\u001b[1;32m     58\u001b[0m     \u001b[38;5;28;01mfrom\u001b[39;00m \u001b[38;5;21;01m.\u001b[39;00m\u001b[38;5;21;01mrtlsdrtcp\u001b[39;00m \u001b[38;5;28;01mimport\u001b[39;00m RtlSdrTcpServer, RtlSdrTcpClient\n",
      "File \u001b[0;32m/usr/local/lib/python3.11/site-packages/pyrtlsdr-0.3.0-py3.11.egg/rtlsdr/librtlsdr.py:62\u001b[0m\n\u001b[1;32m     57\u001b[0m         \u001b[38;5;28;01mraise\u001b[39;00m \u001b[38;5;167;01mImportError\u001b[39;00m(\u001b[38;5;124m'\u001b[39m\u001b[38;5;124mError loading librtlsdr. Make sure librtlsdr \u001b[39m\u001b[38;5;124m'\u001b[39m\\\n\u001b[1;32m     58\u001b[0m                           \u001b[38;5;124m'\u001b[39m\u001b[38;5;124m(and all of its dependencies) are in your path\u001b[39m\u001b[38;5;124m'\u001b[39m)\n\u001b[1;32m     60\u001b[0m     \u001b[38;5;28;01mreturn\u001b[39;00m dll\n\u001b[0;32m---> 62\u001b[0m librtlsdr \u001b[38;5;241m=\u001b[39m \u001b[43mload_librtlsdr\u001b[49m\u001b[43m(\u001b[49m\u001b[43m)\u001b[49m\n\u001b[1;32m     64\u001b[0m \u001b[38;5;66;03m# we don't care about the rtlsdr_dev struct and it's allocated by librtlsdr, so\u001b[39;00m\n\u001b[1;32m     65\u001b[0m \u001b[38;5;66;03m# we won't even bother filling it in\u001b[39;00m\n\u001b[1;32m     66\u001b[0m p_rtlsdr_dev \u001b[38;5;241m=\u001b[39m c_void_p\n",
      "File \u001b[0;32m/usr/local/lib/python3.11/site-packages/pyrtlsdr-0.3.0-py3.11.egg/rtlsdr/librtlsdr.py:57\u001b[0m, in \u001b[0;36mload_librtlsdr\u001b[0;34m()\u001b[0m\n\u001b[1;32m     55\u001b[0m         \u001b[38;5;28;01mpass\u001b[39;00m\n\u001b[1;32m     56\u001b[0m \u001b[38;5;28;01melse\u001b[39;00m:\n\u001b[0;32m---> 57\u001b[0m     \u001b[38;5;28;01mraise\u001b[39;00m \u001b[38;5;167;01mImportError\u001b[39;00m(\u001b[38;5;124m'\u001b[39m\u001b[38;5;124mError loading librtlsdr. Make sure librtlsdr \u001b[39m\u001b[38;5;124m'\u001b[39m\\\n\u001b[1;32m     58\u001b[0m                       \u001b[38;5;124m'\u001b[39m\u001b[38;5;124m(and all of its dependencies) are in your path\u001b[39m\u001b[38;5;124m'\u001b[39m)\n\u001b[1;32m     60\u001b[0m \u001b[38;5;28;01mreturn\u001b[39;00m dll\n",
      "\u001b[0;31mImportError\u001b[0m: Error loading librtlsdr. Make sure librtlsdr (and all of its dependencies) are in your path"
     ]
    }
   ],
   "source": [
    "from rtlsdr import RtlSdr\n",
    "\n",
    "sdr = RtlSdr()\n",
    "\n",
    "# configure device\n",
    "sdr.sample_rate = 2.048e6  # Hz\n",
    "sdr.center_freq = 70e6     # Hz\n",
    "sdr.freq_correction = 60   # PPM\n",
    "sdr.gain = 'auto'\n",
    "\n",
    "print(sdr.read_samples(512))"
   ]
  }
 ],
 "metadata": {
  "kernelspec": {
   "display_name": "Python 3",
   "language": "python",
   "name": "python3"
  },
  "language_info": {
   "codemirror_mode": {
    "name": "ipython",
    "version": 3
   },
   "file_extension": ".py",
   "mimetype": "text/x-python",
   "name": "python",
   "nbconvert_exporter": "python",
   "pygments_lexer": "ipython3",
   "version": "3.11.9"
  }
 },
 "nbformat": 4,
 "nbformat_minor": 2
}
